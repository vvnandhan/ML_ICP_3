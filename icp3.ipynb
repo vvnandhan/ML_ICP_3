{
  "nbformat": 4,
  "nbformat_minor": 0,
  "metadata": {
    "colab": {
      "provenance": []
    },
    "kernelspec": {
      "name": "python3",
      "display_name": "Python 3"
    },
    "language_info": {
      "name": "python"
    }
  },
  "cells": [
    {
      "cell_type": "code",
      "execution_count": 1,
      "metadata": {
        "colab": {
          "base_uri": "https://localhost:8080/"
        },
        "id": "W1veujX5Im2C",
        "outputId": "dd0f7cfd-90fc-4a06-8e13-3344e211d7e3"
      },
      "outputs": [
        {
          "output_type": "stream",
          "name": "stdout",
          "text": [
            "(3, 5)\n",
            "[[10 18  1  9 10]\n",
            " [11 12 19 15  9]\n",
            " [ 2 12  4 19  5]]\n",
            "\n",
            " [[10  0  1  9 10]\n",
            " [11 12  0 15  9]\n",
            " [ 2 12  4  0  5]]\n"
          ]
        }
      ],
      "source": [
        "# Creating random vector of size 15 having only Integers in the range 1-20.\n",
        "import numpy as np\n",
        "vector =  np.random.randint(1,20,(15,))\n",
        "\n",
        "# Reshaping the array to 3 by 5\n",
        "arr = vector.reshape(3,5)\n",
        "print(arr.shape)\n",
        "print(arr)\n",
        "\n",
        "# Replacing the max in each row by 0\n",
        "row_max = arr.max(axis=1).reshape(-1,1)\n",
        "arr = np.where(arr == row_max, 0, arr)\n",
        "print('\\n',arr)\n"
      ]
    },
    {
      "cell_type": "code",
      "source": [
        "# Create a 2-dimensional array of size 4 x 3 (composed of 4-byte integer elements),\n",
        "a = np.array([[1, 2, 3], [4, 5, 6], [7, 8, 9], [10, 5, 7]], np.int32)\n",
        "#shape of the array\n",
        "print('Shape:', a.shape)\n",
        "#type of the array\n",
        "print('Type:', type(a))\n",
        "#datatype\n",
        "print('Data type:', a.dtype)"
      ],
      "metadata": {
        "colab": {
          "base_uri": "https://localhost:8080/"
        },
        "id": "gcaDFLGPIsV9",
        "outputId": "37071d2a-ad84-4a10-874d-ed2fbf6636eb"
      },
      "execution_count": 2,
      "outputs": [
        {
          "output_type": "stream",
          "name": "stdout",
          "text": [
            "Shape: (4, 3)\n",
            "Type: <class 'numpy.ndarray'>\n",
            "Data type: int32\n"
          ]
        }
      ]
    },
    {
      "cell_type": "code",
      "source": [
        "# Computing the eigenvalues and right eigenvectors\n",
        "from numpy import linalg as LA\n",
        "given = np.array([[3, -2], [1, 0]], np.int32)\n",
        "values, vectors = LA.eig(given)\n",
        "print('Eigenvalues:', values)\n",
        "print('\\nRight Eigenvectors:\\n', vectors)"
      ],
      "metadata": {
        "colab": {
          "base_uri": "https://localhost:8080/"
        },
        "id": "GbXms9suItzA",
        "outputId": "79454063-3261-459b-bf69-159ab0549408"
      },
      "execution_count": 3,
      "outputs": [
        {
          "output_type": "stream",
          "name": "stdout",
          "text": [
            "Eigenvalues: [2. 1.]\n",
            "\n",
            "Right Eigenvectors:\n",
            " [[0.89442719 0.70710678]\n",
            " [0.4472136  0.70710678]]\n"
          ]
        }
      ]
    },
    {
      "cell_type": "code",
      "source": [
        "# Computing the sum of the diagonal element\n",
        "diag = np.array([[0, 1, 2], [3, 4, 5]])\n",
        "result = np.trace(diag)\n",
        "print('Sum of diagonal elements:', result)"
      ],
      "metadata": {
        "colab": {
          "base_uri": "https://localhost:8080/"
        },
        "id": "1f_rpRS1Ixxh",
        "outputId": "2d35395c-05ab-41fd-d836-481af5e6a798"
      },
      "execution_count": 4,
      "outputs": [
        {
          "output_type": "stream",
          "name": "stdout",
          "text": [
            "Sum of diagonal elements: 4\n"
          ]
        }
      ]
    },
    {
      "cell_type": "code",
      "source": [
        "x = np.arange(1,7).reshape(3,2)\n",
        "x = x.reshape(2,3)\n",
        "print(x)"
      ],
      "metadata": {
        "colab": {
          "base_uri": "https://localhost:8080/"
        },
        "id": "nzMmw-SXIzmZ",
        "outputId": "2e318ab1-6ebe-45c9-a02b-6d6b5cab961f"
      },
      "execution_count": 5,
      "outputs": [
        {
          "output_type": "stream",
          "name": "stdout",
          "text": [
            "[[1 2 3]\n",
            " [4 5 6]]\n"
          ]
        }
      ]
    }
  ]
}